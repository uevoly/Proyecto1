{
 "cells": [
  {
   "cell_type": "markdown",
   "metadata": {},
   "source": [
    "## Proyecto 1."
   ]
  },
  {
   "cell_type": "markdown",
   "metadata": {},
   "source": [
    "Resolución con 221 datos y 3 polinomios:"
   ]
  },
  {
   "cell_type": "code",
   "execution_count": 1,
   "metadata": {},
   "outputs": [
    {
     "data": {
      "text/html": [
       "<div>\n",
       "<style scoped>\n",
       "    .dataframe tbody tr th:only-of-type {\n",
       "        vertical-align: middle;\n",
       "    }\n",
       "\n",
       "    .dataframe tbody tr th {\n",
       "        vertical-align: top;\n",
       "    }\n",
       "\n",
       "    .dataframe thead th {\n",
       "        text-align: right;\n",
       "    }\n",
       "</style>\n",
       "<table border=\"1\" class=\"dataframe\">\n",
       "  <thead>\n",
       "    <tr style=\"text-align: right;\">\n",
       "      <th></th>\n",
       "      <th>Wavelenght (nm)</th>\n",
       "      <th>celda 1</th>\n",
       "      <th>celda 2</th>\n",
       "      <th>celda 3</th>\n",
       "      <th>Unnamed: 4</th>\n",
       "    </tr>\n",
       "  </thead>\n",
       "  <tbody>\n",
       "    <tr>\n",
       "      <th>0</th>\n",
       "      <td>580</td>\n",
       "      <td>176</td>\n",
       "      <td>149</td>\n",
       "      <td>180</td>\n",
       "      <td>NaN</td>\n",
       "    </tr>\n",
       "    <tr>\n",
       "      <th>1</th>\n",
       "      <td>581</td>\n",
       "      <td>160</td>\n",
       "      <td>56</td>\n",
       "      <td>145</td>\n",
       "      <td></td>\n",
       "    </tr>\n",
       "    <tr>\n",
       "      <th>2</th>\n",
       "      <td>582</td>\n",
       "      <td>156</td>\n",
       "      <td>141</td>\n",
       "      <td>77</td>\n",
       "      <td>NaN</td>\n",
       "    </tr>\n",
       "    <tr>\n",
       "      <th>3</th>\n",
       "      <td>583</td>\n",
       "      <td>208</td>\n",
       "      <td>154</td>\n",
       "      <td>148</td>\n",
       "      <td>NaN</td>\n",
       "    </tr>\n",
       "    <tr>\n",
       "      <th>4</th>\n",
       "      <td>584</td>\n",
       "      <td>205</td>\n",
       "      <td>127</td>\n",
       "      <td>123</td>\n",
       "      <td>NaN</td>\n",
       "    </tr>\n",
       "    <tr>\n",
       "      <th>...</th>\n",
       "      <td>...</td>\n",
       "      <td>...</td>\n",
       "      <td>...</td>\n",
       "      <td>...</td>\n",
       "      <td>...</td>\n",
       "    </tr>\n",
       "    <tr>\n",
       "      <th>216</th>\n",
       "      <td>796</td>\n",
       "      <td>420</td>\n",
       "      <td>666</td>\n",
       "      <td>246</td>\n",
       "      <td>NaN</td>\n",
       "    </tr>\n",
       "    <tr>\n",
       "      <th>217</th>\n",
       "      <td>797</td>\n",
       "      <td>375</td>\n",
       "      <td>618</td>\n",
       "      <td>217</td>\n",
       "      <td>NaN</td>\n",
       "    </tr>\n",
       "    <tr>\n",
       "      <th>218</th>\n",
       "      <td>798</td>\n",
       "      <td>386</td>\n",
       "      <td>593</td>\n",
       "      <td>271</td>\n",
       "      <td>NaN</td>\n",
       "    </tr>\n",
       "    <tr>\n",
       "      <th>219</th>\n",
       "      <td>799</td>\n",
       "      <td>398</td>\n",
       "      <td>686</td>\n",
       "      <td>253</td>\n",
       "      <td>NaN</td>\n",
       "    </tr>\n",
       "    <tr>\n",
       "      <th>220</th>\n",
       "      <td>800</td>\n",
       "      <td>387</td>\n",
       "      <td>550</td>\n",
       "      <td>207</td>\n",
       "      <td>NaN</td>\n",
       "    </tr>\n",
       "  </tbody>\n",
       "</table>\n",
       "<p>221 rows × 5 columns</p>\n",
       "</div>"
      ],
      "text/plain": [
       "     Wavelenght (nm)  celda 1  celda 2  celda 3 Unnamed: 4\n",
       "0                580      176      149      180        NaN\n",
       "1                581      160       56      145           \n",
       "2                582      156      141       77        NaN\n",
       "3                583      208      154      148        NaN\n",
       "4                584      205      127      123        NaN\n",
       "..               ...      ...      ...      ...        ...\n",
       "216              796      420      666      246        NaN\n",
       "217              797      375      618      217        NaN\n",
       "218              798      386      593      271        NaN\n",
       "219              799      398      686      253        NaN\n",
       "220              800      387      550      207        NaN\n",
       "\n",
       "[221 rows x 5 columns]"
      ]
     },
     "execution_count": 1,
     "metadata": {},
     "output_type": "execute_result"
    }
   ],
   "source": [
    "import pandas as pd\n",
    "import numpy as np\n",
    "import scipy.optimize as opt\n",
    "import matplotlib.pyplot as mplt\n",
    "\n",
    "#Extraer documento\n",
    "archivo = 'Pruebas de luminiscencia_proyecto.csv'\n",
    "\n",
    "#Leer documento\n",
    "data = pd.read_csv(archivo)\n",
    "data"
   ]
  },
  {
   "cell_type": "code",
   "execution_count": 2,
   "metadata": {},
   "outputs": [],
   "source": [
    "#Importar datos\n",
    "x = data.iloc[:,0]\n",
    "y = data.iloc[:,1]\n",
    "\n",
    "#Preparar datos (normlizar x & y)\n",
    "x_norm = (x-min(x))/(max(x)-min(x))\n",
    "y_norm = (y-min(y))/(max(y)-min(y))"
   ]
  },
  {
   "cell_type": "code",
   "execution_count": 3,
   "metadata": {},
   "outputs": [],
   "source": [
    "# Definir funcion objetivo\n",
    "def f_obj(beta,x,y,n):\n",
    "    yhat = beta.dot([x**i for i in range(n+1)])\n",
    "    error = y-yhat\n",
    "    return np.sum(error**2)"
   ]
  },
  {
   "cell_type": "code",
   "execution_count": 4,
   "metadata": {},
   "outputs": [],
   "source": [
    "#Ajustar polinomios \n",
    "#Polinomio de grado 1\n",
    "b1 = np.zeros(2)\n",
    "ajuste1 = opt.minimize(f_obj, b1, args=(x_norm,y_norm,1))\n",
    "\n",
    "#Polinomio de grado 2\n",
    "b2 = np.zeros(3)\n",
    "ajuste2 = opt.minimize(f_obj, b2, args=(x_norm,y_norm,2))\n",
    "\n",
    "#Polinomio de grado 3\n",
    "b3 = np.zeros(4)\n",
    "ajuste3 = opt.minimize(f_obj, b3, args=(x_norm,y_norm,3))"
   ]
  },
  {
   "cell_type": "code",
   "execution_count": 5,
   "metadata": {},
   "outputs": [],
   "source": [
    "#Declarar el vector y\n",
    "yhat1 = ajuste1.x.dot([x_norm**i for i in range(2)])*(max(y)-min(y)) + min(y)\n",
    "yhat2 = ajuste2.x.dot([x_norm**i for i in range(3)])*(max(y)-min(y)) + min(y)\n",
    "yhat3 = ajuste3.x.dot([x_norm**i for i in range(4)])*(max(y)-min(y)) + min(y)"
   ]
  },
  {
   "cell_type": "code",
   "execution_count": 6,
   "metadata": {},
   "outputs": [
    {
     "data": {
      "image/png": "[encoded data removed]",
      "text/plain": [
       "<Figure size 576x432 with 1 Axes>"
      ]
     },
     "metadata": {
      "needs_background": "light"
     },
     "output_type": "display_data"
    }
   ],
   "source": [
    "#Graficar datos de población contra los años, y los polinomios ajustados\n",
    "mplt.figure(figsize=(8,6))\n",
    "\n",
    "mplt.plot(x, y, 'r*', ms=8, label='Datos')\n",
    "mplt.plot(x, yhat1, 'c', lw=3, label='Ajuste 1')\n",
    "mplt.plot(x, yhat2, 'g', lw=3, label='Ajuste 2')\n",
    "mplt.plot(x, yhat3, 'm', lw=3, label='Ajuste 3')\n",
    "\n",
    "mplt.xlabel('Longitud de onda [nm]',fontsize=18)\n",
    "mplt.ylabel('Luminiscencia [candela/m^2]',fontsize=18)\n",
    "\n",
    "mplt.title('Gráfica 1',fontsize=18)\n",
    "mplt.grid()\n",
    "mplt.legend(loc='best')\n",
    "mplt.show()"
   ]
  },
  {
   "cell_type": "code",
   "execution_count": null,
   "metadata": {},
   "outputs": [],
   "source": []
  }
 ],
 "metadata": {
  "kernelspec": {
   "display_name": "Python 3",
   "language": "python",
   "name": "python3"
  },
  "language_info": {
   "codemirror_mode": {
    "name": "ipython",
    "version": 3
   },
   "file_extension": ".py",
   "mimetype": "text/x-python",
   "name": "python",
   "nbconvert_exporter": "python",
   "pygments_lexer": "ipython3",
   "version": "3.8.3"
  }
 },
 "nbformat": 4,
 "nbformat_minor": 4
}
